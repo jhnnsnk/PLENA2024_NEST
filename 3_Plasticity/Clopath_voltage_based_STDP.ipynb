{
 "cells": [
  {
   "cell_type": "markdown",
   "id": "8dcdead5",
   "metadata": {},
   "source": [
    "# Clopath plasticity (voltage-based STDP)\n",
    "\n",
    "Tutor: Johanna Senk [<span>&#9993;</span>](mailto:j.senk@sussex.ac.uk)  \n",
    "PLENA 2024\n",
    "\n",
    "We use the synapse model `clopath_synapse`. Compatible neuron models are `aeif_psc_delta_clopath` (used here) and `hh_psc_alpha_clopath`; these neuron models are capable of archiving continuous quantities.  \n",
    "For details, refer to the NEST documentation: [clopath_synapse](https://nest-simulator.readthedocs.io/en/stable/models/clopath_synapse.html), [aeif_psc_delta_clopath](https://nest-simulator.readthedocs.io/en/stable/models/aeif_psc_delta_clopath.html), and [hh_psc_delta_clopath](https://nest-simulator.readthedocs.io/en/stable/models/hh_psc_delta_clopath.html).\n",
    "\n",
    "This notebook is based on the NEST example\n",
    "[Clopath Rule: Bidirectional connections](https://nest-simulator.readthedocs.io/en/stable/auto_examples/clopath_synapse_small_network.html).  \n",
    "An earlier version of the notebook was developed by Agnes Korcsak-Gorzo for BNNI 2022."
   ]
  },
  {
   "cell_type": "markdown",
   "id": "66b2d127-3176-4a9f-a14e-47a5a5f37e8c",
   "metadata": {},
   "source": [
    "## Background\n",
    "\n",
    "Clopath plasticity accounts for non-linear effects of spike frequency on weight changes which had been previously observed in experiments (Sjöström et al., 2001). It does so by using the evolution of the postsynaptic membrane voltage around postsynaptic spike events instead of the postsynaptic spikes themselves. This requires a neuron model that takes into account features of membrane potential excursions near spike events, such as modified adaptive exponential integrate-and-fire (aeif) model neurons that are used in the original publication (Clopath et al., 2010, see section 5.2) or Hodgkin-Huxley neurons.\n",
    "\n",
    "<img src=\"MorrisonEtAl2008_Fig2B.png\" alt=\"Morrison et al. (2008) Fig. 2B\" width=\"50\" align=\"center\"/> \n",
    "\n",
    "*Morrison et al. (2008) Fig. 2B* \n",
    "\n",
    "We assume the following equation to be the general form for plasticity models. The change of a weight of a synapse from neuron $j$ to neuron $i$ is given by:\n",
    "\\begin{align}\n",
    "\\frac{dW_{ij}(t)}{dt} = F(W_{ij}(t), s^*_i (t), s^*_j (t), V^*_i (t))\n",
    "\\end{align}\n",
    "The superscript $*$ indicates causal functionals, potentially depending on all past values. $s(t)$ are spike trains and $V_i$ is the postsynaptic membrane potential.\n",
    "\n",
    "Here, the right-hand side is the sum of $F_\\text{LTD}$ and $F_\\text{LTP}$ as defined below (with the pre-factors $A_\\text{LTD}$ and $A_\\text{LTP}$ controlling the relative strengths of these contributions):\n",
    "\n",
    "Long-term depression (LTD):\n",
    "\\begin{align}\n",
    "F_\\text{LTD} ( s_j (t),\\,V^*_{i,\\text{LTD}} (t)) &= -A_\\text{LTD} s_j (t) V^*_{i,\\text{LTD}}\\\\\n",
    "\\text{with } V^*_{i,\\text{LTD}} &= (\\overline{u}_- -\\theta_-)_+,\\\\\n",
    "\\overline{u}_-(t) &= (\\kappa_- * V_i) (t - d_s)\n",
    "\\end{align}\n",
    "\n",
    "Long-term potentiation (LTP):\n",
    "\\begin{align}\n",
    "F_\\text{LTP} ( s_j^* (t),\\,V^*_{i,\\text{LTP}} (t)) &= A_\\text{LTP} s_j^* (t) V^*_{i,\\text{LTP}}\\\\\n",
    "\\text{with } s^*_j &= \\kappa_s * s_j\\\\\n",
    "V^*_{i,\\text{LTP}} &= (\\overline{u}_+ - \\theta_-)_+ (V_i - \\theta_+)_+\\\\\n",
    "\\overline{u}_+ (t) &= (\\kappa_+ * V_i) (t - d_s)\n",
    "\\end{align}\n",
    "\n",
    "The above equations use the threshold linear function (with $H$ being the Heaviside step function):\n",
    "\\begin{align}\n",
    "(x-x_0)_+ = H (x-x_0) (x-x_0)\n",
    "\\end{align}\n",
    "\n",
    "$\\kappa_\\pm$ are exponential kernels applied to the postsynaptic membrane potential and $\\kappa_s$ is applied to the presynaptic spike train:\n",
    "\\begin{align}\n",
    "\\kappa (t) = H(t) \\frac{1}{\\tau} \\exp(-\\frac{1}{\\tau})\n",
    "\\end{align}\n",
    "\n",
    "The time-independent parameters θ± serve as thresholds below which the (low-pass filtered) membrane potential does not cause any weight change.\n",
    "\n",
    "### References\n",
    "\n",
    "**Plasticity mechanism**\n",
    "\n",
    "*Clopath C, Büsing L, Vasilaki E, Gerstner W (2010). Connectivity reflects coding: a model of voltage-based STDP with homeostasis. Nature Neuroscience 13:3, 344--352. [doi:10.1038/nn.2479](https:doi.org/10.1038/nn.2479)*\n",
    "\n",
    "**NEST implementation**\n",
    "\n",
    "*J. Stapmanns, J. Hahne, M. Helias, M. Bolten, M. Diesmann, D. Dahmen (2021). Event-Based Update of Synapses in Voltage-Based Learning Rules. Frontiers in Neuroinformatics, 15:609147. [doi: 10.3389/fninf.2021.609147](https://doi.org/10.3389/fninf.2021.609147)*"
   ]
  },
  {
   "cell_type": "markdown",
   "id": "0aa18533-5dc9-4d34-886a-12193a894855",
   "metadata": {},
   "source": [
    "## This notebook\n",
    "\n",
    "In this experiment, we simulate a small network of ten excitatory and three\n",
    "inhibitory ``aeif_psc_delta_clopath`` neurons. The neurons are randomly connected\n",
    "and driven by 500 Poisson generators. The synapses from the Poisson generators\n",
    "to the excitatory population and those among the neurons of the network\n",
    "are plastic Clopath synapses (indicated in blue). The rate of the Poisson generators is modulated with\n",
    "a Gaussian profile whose center shifts randomly each 100 ms between ten\n",
    "equally spaced positions.\n",
    "This setup is inspired by Fig. 5 in Clopath et al. (2010), see also Fig. 7 of Stapmanns et al. (2021). We will demonstrate that the Clopath synapse is able to establish\n",
    "bidirectional connections.\n",
    "\n",
    "<img src=\"stapmanns2021event_fig7a_setup-clopath.png\" alt=\"sketch\" width=\"300\" align=\"center\"/>\n",
    "\n",
    "*Stapmanns et al. (2021) Fig. 7C*"
   ]
  },
  {
   "cell_type": "markdown",
   "id": "0a0f1d12",
   "metadata": {},
   "source": [
    "## Setup"
   ]
  },
  {
   "cell_type": "code",
   "execution_count": null,
   "id": "640f012c",
   "metadata": {},
   "outputs": [],
   "source": [
    "%matplotlib inline\n",
    "import matplotlib.pyplot as plt\n",
    "plt.rcParams.update({\n",
    "    'font.size': 16,\n",
    "    })\n",
    "import numpy as np\n",
    "import random\n",
    "import nest\n",
    "nest.set_verbosity('M_ERROR')"
   ]
  },
  {
   "cell_type": "markdown",
   "id": "fc150da5-38b1-4b06-8b30-27f0cec44ed9",
   "metadata": {},
   "source": [
    "Set simulation parameters:"
   ]
  },
  {
   "cell_type": "code",
   "execution_count": null,
   "id": "d98d1eac",
   "metadata": {},
   "outputs": [],
   "source": [
    "resolution = 0.1             # simulation step size (ms)\n",
    "simulation_time = 1e4       # simulation time\n",
    "sim_interval = 100.         # simulate in intervals of 100 ms for shifting the Gaussian"
   ]
  },
  {
   "cell_type": "markdown",
   "id": "51eee755-107a-4efc-aeab-4434d691cafc",
   "metadata": {},
   "source": [
    "Check the default values of the neuron model and set the values used here:"
   ]
  },
  {
   "cell_type": "code",
   "execution_count": null,
   "id": "0ce39532-8bf4-407a-ae02-95093746c10c",
   "metadata": {},
   "outputs": [],
   "source": [
    "nrn_model = 'aeif_psc_delta_clopath'\n",
    "nest.GetDefaults(nrn_model)"
   ]
  },
  {
   "cell_type": "code",
   "execution_count": null,
   "id": "78075b75",
   "metadata": {},
   "outputs": [],
   "source": [
    "nrn_params = {\n",
    "    # dynamic state variables\n",
    "    'V_m': -30.6,             # initial membrane potential (mV)\n",
    "    'w': 0.,                  # spike-adaptation current (pA)\n",
    "    \n",
    "    # membrane parameters\n",
    "    'g_L': 30.,               # leak conductance (nS)\n",
    "    'tau_u_bar_plus': 7.,     # time constant of the low-pass filtered membrane potential (ms)\n",
    "    'tau_u_bar_minus': 10.,   # time constant of the low-pass filtered membrane potential (ms)\n",
    "    'C_m': 281.,              # membrane capacitance (pF)\n",
    "    \n",
    "    # spike-adaptation parameters\n",
    "    'tau_w': 144.,            # adaptation time constant (ms)\n",
    "    'a': 4.,                  # sub-threshold adaptation (nS)\n",
    "    'Delta_T': 2.,            # slope factor (mV)\n",
    "    'V_peak': 20.,            # spike detection threshold (mV)\n",
    "    'b': .0805,               # spike-triggered adaptation (pA)\n",
    "\n",
    "     # Clopath rule parameters\n",
    "    'u_ref_squared': 60.**2,  # reference value for u_bar_bar^2\n",
    "    'A_LTP': 8e-6,            # amplitude of facilitation (1/mV^2)\n",
    "    'A_LTD': 14e-6,           # amplitude of depression (1/mV)\n",
    "    'A_LTD_const': False,     # flag that indicates whether A_LTP should be constant (True) or multiplied\n",
    "                              # by u_bar^2 / u_ref_squared (False)\n",
    "    \n",
    "    # other parameters\n",
    "    't_clamp': 2.,            # duration of clamping of membrane potential after a spike (ms)\n",
    "    }"
   ]
  },
  {
   "cell_type": "markdown",
   "id": "5c1eee1d-3a48-497f-a43c-a7237aa39234",
   "metadata": {},
   "source": [
    "Set network parameters:"
   ]
  },
  {
   "cell_type": "code",
   "execution_count": null,
   "id": "a545f844",
   "metadata": {},
   "outputs": [],
   "source": [
    "N_exc = 10   # number exc. neurons\n",
    "N_inh = 3    # number inh. neurons\n",
    "N_pg = 500   # number Poisson generators"
   ]
  },
  {
   "cell_type": "markdown",
   "id": "01ff1704-cd07-4015-910e-2e5986ae847a",
   "metadata": {},
   "source": [
    "Set connection parameters:"
   ]
  },
  {
   "cell_type": "code",
   "execution_count": null,
   "id": "24b6ef0e",
   "metadata": {},
   "outputs": [],
   "source": [
    "w_exc_exc = 0.25\n",
    "delay = resolution"
   ]
  },
  {
   "cell_type": "markdown",
   "id": "8571c193-2599-420f-88ef-bafab689f74e",
   "metadata": {},
   "source": [
    "Set external input parameters:"
   ]
  },
  {
   "cell_type": "code",
   "execution_count": null,
   "id": "6b29fafc",
   "metadata": {},
   "outputs": [],
   "source": [
    "pg_A = 30.      # amplitude of Gaussian\n",
    "pg_sigma = 10.  # std deviation of Gaussian"
   ]
  },
  {
   "cell_type": "markdown",
   "id": "dee163c3-4293-4a11-9bdd-3f8d4dc347fe",
   "metadata": {},
   "source": [
    "Clear NEST memory:"
   ]
  },
  {
   "cell_type": "code",
   "execution_count": null,
   "id": "fbd0a6bc",
   "metadata": {},
   "outputs": [],
   "source": [
    "nest.ResetKernel()\n",
    "nest.resolution = resolution"
   ]
  },
  {
   "cell_type": "markdown",
   "id": "baaa1e6b-ff97-453b-bdf7-2b9bb8f4f2e1",
   "metadata": {},
   "source": [
    "Create neurons and devices:"
   ]
  },
  {
   "cell_type": "code",
   "execution_count": null,
   "id": "7b237282",
   "metadata": {},
   "outputs": [],
   "source": [
    "pop_exc = nest.Create(nrn_model, N_exc, nrn_params)\n",
    "pop_inh = nest.Create(nrn_model, N_inh, nrn_params)\n",
    "\n",
    "pg = nest.Create('poisson_generator', N_pg)\n",
    "\n",
    "# create intermediate parrot neurons since Poisson generators can only be connected\n",
    "# with static connections\n",
    "pop_input = nest.Create('parrot_neuron', N_pg)"
   ]
  },
  {
   "cell_type": "markdown",
   "id": "dea4868a-d24e-4d62-9270-18de6f46d2bf",
   "metadata": {},
   "source": [
    "Connect the network:"
   ]
  },
  {
   "cell_type": "code",
   "execution_count": null,
   "id": "cfa0de08",
   "metadata": {},
   "outputs": [],
   "source": [
    "syn_spec_static = {'synapse_model': 'static_synapse', 'weight': 1., 'delay': delay}\n",
    "conn_spec_ata = {'rule': 'all_to_all', 'allow_autapses': False}\n",
    "\n",
    "# set the maximum allowed weight\n",
    "nest.CopyModel('clopath_synapse', 'plastic_input_exc', {'Wmax': 3.})\n",
    "nest.CopyModel('clopath_synapse', 'plastic_exc_exc', {'Wmax': 0.75})\n",
    "\n",
    "nest.Connect(pg, pop_input, 'one_to_one', syn_spec_static)\n",
    "\n",
    "nest.Connect(pop_input, pop_exc, conn_spec_ata,\n",
    "             {'synapse_model': 'plastic_input_exc',\n",
    "              'weight': nest.random.uniform(0.5, 2.), 'delay': delay})\n",
    "\n",
    "nest.Connect(pop_input, pop_inh, conn_spec_ata,\n",
    "             {'synapse_model': 'static_synapse',\n",
    "              'weight': nest.random.uniform(0., 0.5), 'delay': delay})\n",
    "\n",
    "nest.Connect(pop_exc, pop_exc, conn_spec_ata,\n",
    "             {'synapse_model': 'plastic_exc_exc',\n",
    "              'weight': w_exc_exc, 'delay': delay})\n",
    "\n",
    "nest.Connect(pop_exc, pop_inh, {'rule': 'fixed_indegree', 'indegree': 8},\n",
    "             syn_spec_static)\n",
    "\n",
    "nest.Connect(pop_inh, pop_exc, {'rule': 'fixed_outdegree', 'outdegree': 6},\n",
    "             syn_spec_static)"
   ]
  },
  {
   "cell_type": "markdown",
   "id": "760ce62f-594b-4a99-bcc0-85f3139dca5b",
   "metadata": {},
   "source": [
    "Randomize the initial membrane potential:"
   ]
  },
  {
   "cell_type": "code",
   "execution_count": null,
   "id": "3a136bc1",
   "metadata": {},
   "outputs": [],
   "source": [
    "pop_exc.V_m = nest.random.normal(-60., 25.)\n",
    "pop_inh.V_m = nest.random.normal(-60., 25.) "
   ]
  },
  {
   "cell_type": "markdown",
   "id": "6ac6f709-c089-41fc-b17d-9668a4218d9f",
   "metadata": {},
   "source": [
    "Simulate in intervals, changing the position of the Poisson generator:"
   ]
  },
  {
   "cell_type": "code",
   "execution_count": null,
   "id": "92dbb6b8",
   "metadata": {},
   "outputs": [],
   "source": [
    "for i in range(int(simulation_time / sim_interval)):\n",
    "    rates = np.empty(500)  # set rates of poisson generators\n",
    "    pg_mu = 25 + random.randint(0, 9) * 50  # pg_mu will be randomly chosen out of 25,75,125,...,425,475\n",
    "    for j in range(500):\n",
    "        rates[j] = pg_A * np.exp((-1 * (j - pg_mu)**2) / (2 * pg_sigma**2))\n",
    "        pg[j].rate = rates[j] * 1.75\n",
    "    nest.Simulate(sim_interval)"
   ]
  },
  {
   "cell_type": "markdown",
   "id": "e02974be-16a8-4f30-b325-aac8835b33ce",
   "metadata": {},
   "source": [
    "Get results for weights of the synapses within the exc. population:"
   ]
  },
  {
   "cell_type": "code",
   "execution_count": null,
   "id": "bbc05ca4",
   "metadata": {},
   "outputs": [],
   "source": [
    "# sort weights according to sender and reshape\n",
    "exc_conns = nest.GetConnections(pop_exc, pop_exc)\n",
    "idx_array = np.argsort(np.array(exc_conns.source))\n",
    "targets = np.reshape(np.array(exc_conns.target)[idx_array], (N_exc, N_exc - 1))\n",
    "weights = np.reshape(np.array(exc_conns.weight)[idx_array], (N_exc, N_exc - 1))\n",
    "\n",
    "# sort weights according to target\n",
    "for i, (trgs, ws) in enumerate(zip(targets, weights)):\n",
    "    idx_array = np.argsort(trgs)\n",
    "    weights[i] = ws[idx_array]\n",
    "\n",
    "weight_matrix = np.zeros((N_exc, N_exc))\n",
    "\n",
    "tu10 = np.triu_indices_from(weight_matrix, 1)\n",
    "tu9 = np.triu_indices_from(weights)\n",
    "weight_matrix[tu10[0], tu10[1]] = weights[tu9[0], tu9[1]]\n",
    "\n",
    "tl10 = np.tril_indices_from(weight_matrix, -1)\n",
    "tl9 = np.tril_indices_from(weights, -1)\n",
    "weight_matrix[tl10[0], tl10[1]] = weights[tl9[0], tl9[1]]\n",
    "\n",
    "# calculate difference between initial and final value\n",
    "init_w_matrix = (np.ones((N_exc, N_exc)) - np.identity(N_exc)) * w_exc_exc\n",
    "diff_weight_matrix = weight_matrix - init_w_matrix"
   ]
  },
  {
   "cell_type": "markdown",
   "id": "e7c8ccb8-5a10-4f7d-b077-61867d1e55ac",
   "metadata": {},
   "source": [
    "Plot results:"
   ]
  },
  {
   "cell_type": "code",
   "execution_count": null,
   "id": "4577c98f",
   "metadata": {},
   "outputs": [],
   "source": [
    "fig, axes = plt.subplots(1, 3, sharex=False, figsize=(15,4))\n",
    "\n",
    "def plot_weights(ax, weight_matrix, label, ylabel=False, vmin=None):\n",
    "    cax = ax.imshow(weight_matrix, vmin=vmin)\n",
    "    cbarB = fig.colorbar(cax, ax=ax)\n",
    "    cbarB.set_label(label)\n",
    "    ax.set_xlabel('target neuron')\n",
    "    ax.xaxis.tick_top()\n",
    "    ax.xaxis.set_label_position('top')\n",
    "    ax.set_xticks(range(0, 10, 2))\n",
    "    ax.set_yticks(range(0, 10, 2))\n",
    "    if ylabel:\n",
    "        _ = ax.set_ylabel('source neuron')\n",
    "\n",
    "axes[0].set_title('initial weights')\n",
    "plot_weights(axes[0], init_w_matrix, r'$w$', ylabel=True, vmin=0.2)\n",
    "axes[1].set_title('final weights')\n",
    "plot_weights(axes[1], weight_matrix, r'$w$', vmin=0.2)\n",
    "axes[2].set_title('weight difference')\n",
    "plot_weights(axes[2], diff_weight_matrix, r'$\\Delta w$')\n",
    "\n",
    "fig.tight_layout()"
   ]
  },
  {
   "cell_type": "markdown",
   "id": "fe84aa16-8b91-4688-9105-5dcf908a5006",
   "metadata": {},
   "source": [
    "You may also want to check out another NEST example with Clopath plasticity: [Clopath Rule: Spike pairing experiment](https://nest-simulator.readthedocs.io/en/stable/auto_examples/clopath_synapse_spike_pairing.html#auto-examples-clopath-synapse-spike-pairing)"
   ]
  }
 ],
 "metadata": {
  "kernelspec": {
   "display_name": "EBRAINS-23.09",
   "language": "python",
   "name": "ebrains-23.09"
  },
  "language_info": {
   "codemirror_mode": {
    "name": "ipython",
    "version": 3
   },
   "file_extension": ".py",
   "mimetype": "text/x-python",
   "name": "python",
   "nbconvert_exporter": "python",
   "pygments_lexer": "ipython3",
   "version": "3.8.11"
  }
 },
 "nbformat": 4,
 "nbformat_minor": 5
}
