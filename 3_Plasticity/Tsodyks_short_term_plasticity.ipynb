{
 "cells": [
  {
   "cell_type": "markdown",
   "id": "8dcdead5",
   "metadata": {},
   "source": [
    "# Tsodyks short-term plasticity\n",
    "\n",
    "Tutor: Johanna Senk [<span>&#9993;</span>](mailto:j.senk@sussex.ac.uk)  \n",
    "PLENA 2024\n",
    "\n",
    "We use the synapse model `tsodyks_synapse` which implements synaptic short-term depression and short-term facilitation according to Tsodyks et al. (2000).  \n",
    "For details, refer to the [NEST documentation](https://nest-simulator.readthedocs.io/en/stable/models/tsodyks_synapse.html).\n",
    "\n",
    "This notebook is based on the NEST examples\n",
    "[Tsodyks depressing example](https://nest-simulator.readthedocs.io/en/stable/auto_examples/tsodyks_depressing.html)\n",
    "and\n",
    "[Tsodyks facilitating example](https://nest-simulator.readthedocs.io/en/stable/auto_examples/tsodyks_facilitating.html).  \n",
    "An earlier version of the notebook was developed by Agnes Korcsak-Gorzo for BNNI 2022."
   ]
  },
  {
   "cell_type": "markdown",
   "id": "54299b2b-4bac-43be-8ab3-3b2fc918ba7e",
   "metadata": {},
   "source": [
    "## Background"
   ]
  },
  {
   "cell_type": "markdown",
   "id": "6e3ba534",
   "metadata": {},
   "source": [
    "<img src=\"MorrisonEtAl2008_Fig2B.png\" alt=\"Morrison et al. (2008) Fig. 2B\" width=\"50\" align=\"center\"/>\n",
    "\n",
    "If neuron $i$ receives a synapse from neuron $j$, the synaptic current (or conductance) in neuron $i$ is $w_{ij}y_{ij}(t)$, where $w_{ij}$ is the absolute strength and $y_{ij}(t)$ is a scaling factor that describes the momentary input to neuron $i$.\n",
    "\n",
    "Dropping indices, $x$,$y$ and $z$ are the fractions of synaptic resources in the recovered, active, and inactive states, respectively, and they evolve as follows:\n",
    "\\begin{align}\n",
    "\\frac{dx}{dt} &= \\frac{z}{\\tau_\\text{rec}} - u_+ x_- \\delta(t - t_j^f)\\\\\n",
    "\\frac{dy}{dt} &= -\\frac{y}{\\tau_\\text{I}} + u_+ x_- \\delta(t - t_j^f)\\\\\n",
    "\\frac{dz}{dt} &= \\frac{y}{\\tau_\\text{I}} - \\frac{z}{\\tau_\\text{rec}}\n",
    "\\end{align}\n",
    "\n",
    "$t_j^f$ gives the timing of presynaptic spikes, $\\tau_\\text{I}$ is the decay constant of PSCs and $\\tau_\\text{rec}$ is the recovery time from synaptic depression. A fraction $u_+$ of the available resources $x$ is used by each presynaptic spike. The variable $u_+$ therefore describes the effective use of the synaptic resources of the synapses, which is analogous to the probability of release in the model described by Markram et al. (1998).\n",
    "\n",
    "Synaptic depression is motivated by depletion of vesicles in the readily releasable pool of synaptic vesicles (variable $x$).\n",
    "\n",
    "In facilitating synapses, $u_+$ is not a fixed parameter, but derived from a variable $u$ which is increased with each presynaptic spike and returns to baseline with a time constant $\\tau_{fac}$:\n",
    "\n",
    "\\begin{align}\n",
    "\\frac{du}{dt} &= -\\frac{u}{\\tau_\\text{fac}} + U(1-u_-) \\delta(t - t_j^f)\\\\\n",
    "\\end{align}\n",
    "\n",
    "Synaptic facilitation comes about by a presynaptic increase of release probability due to the facilitation parameter $U$.\n",
    "\n",
    "(Note: The subscript + means that a value is taken just after an update, and - means just before.)\n",
    "\n",
    "### References\n",
    "\n",
    "**Plasticity mechanism**\n",
    "\n",
    "*Tsodyks M, Uziel A, Markram H (2000)*. Synchrony generation in recurrent networks with frequency-dependent synapses. Journal of Neuroscience, 20 RC50. [doi:10.1523/JNEUROSCI.20-01-j0003.2000](https://doi.org/10.1523/JNEUROSCI.20-01-j0003.2000)\n",
    "\n",
    "*Tsodyks M, Pawelzik K, Markram H (1998). Neural networks with dynamic synapses. Neural computation. [doi:10.1162/089976698300017502](https:/doi.org/10.1162/089976698300017502)*\n",
    "\n",
    "**NEST implementation**\n",
    "\n",
    "*A. Morrison, M. Diesmann, and W. Gerstner.  Phenomenological models of synaptic plasticity based on spike timing. Biological Cybernetics, 98(6):459–478, 2008. [doi:10.1007/s00422-008-0233-1](https://doi.org/10.1007/s00422-008-0233-1)*"
   ]
  },
  {
   "cell_type": "markdown",
   "id": "253928b8-ad0a-42f1-a343-64a76cbca5fa",
   "metadata": {},
   "source": [
    "## This notebook\n",
    "\n",
    "We will simulate three pairs of neurons connected by a 1.) a static synapse, 2.) a facilitating Tsodyks synapse, and 3.) a depressing Tsodyks synapse.  \n",
    "The first neuron of each pair is driven by DC input and we record the membrane potential of the second neuron.\n",
    "\n",
    "**1. Static synapse**  \n",
    "The static synapse uses a fixed weight.\n",
    "\n",
    "**2. Tsodyks facilitating synapse**  \n",
    "A small facilitation parameter `U` causes a slow saturation of the synaptic efficacy, enabling a facilitating behavior.  This experiment could reproduce Figure 1B of Tsodyks et al. (1998), but for simplicity we here use the parameters of Figure 1A throughout.\n",
    "\n",
    "**3. Tsodyks depressing synapse**\n",
    "A large facilitation parameter `U` causes a fast saturation of the synaptic efficacy, disabling a facilitating behavior.  \n",
    "This experiment reproduces Figure 1A of Tsodyks et al. (1998)."
   ]
  },
  {
   "cell_type": "markdown",
   "id": "0a0f1d12",
   "metadata": {},
   "source": [
    "## Setup"
   ]
  },
  {
   "cell_type": "code",
   "execution_count": null,
   "id": "640f012c",
   "metadata": {},
   "outputs": [],
   "source": [
    "%matplotlib inline\n",
    "import matplotlib.pyplot as plt\n",
    "import numpy as np\n",
    "import random\n",
    "import nest\n",
    "nest.set_verbosity('M_ERROR')"
   ]
  },
  {
   "cell_type": "markdown",
   "id": "bc523c59-6dee-4df5-9221-3dd0ef6e8ce6",
   "metadata": {},
   "source": [
    "Set simulation parameters:"
   ]
  },
  {
   "cell_type": "code",
   "execution_count": null,
   "id": "f6d9ca7f",
   "metadata": {},
   "outputs": [],
   "source": [
    "resolution = 0.1            # simulation step size (ms)\n",
    "sim_time = 1200.            # simulation time\n",
    "dc_start = 50.              # start time of DC input\n",
    "dc_stop = 1050.             # stop time of DC input"
   ]
  },
  {
   "cell_type": "markdown",
   "id": "0e381a55-7058-4c85-b3a8-0ee452b67a01",
   "metadata": {},
   "source": [
    "The neurons are of type `iaf_psc_exp`. Set the neuron parameters:"
   ]
  },
  {
   "cell_type": "code",
   "execution_count": null,
   "id": "aef07611",
   "metadata": {},
   "outputs": [],
   "source": [
    "tau_syn = 3.                # note: NEST facilitation example uses 1.5\n",
    "\n",
    "nrn_params = {\n",
    "    'tau_m': 40.,           # membrane time constant (ms)\n",
    "    't_ref': 2.,            # refractory time (ms)\n",
    "    'tau_syn_ex': tau_syn,  # exc. synaptic time constant (ms)\n",
    "    'tau_syn_in': tau_syn,  # inh. synaptic time constant (ms)\n",
    "    'C_m': 400.,            # membrane capacitance (nF); note: NEST facilitation examples uses 40.\n",
    "    'V_reset': 0.,          # reset potential of membrane potential (mV)\n",
    "    'E_L': 0.,              # leak potential (mV)\n",
    "    'V_m': 0.,              # initial membrane potential (mV)\n",
    "    'V_th': 15.,            # threshold membrane potential (mV)\n",
    "    }"
   ]
  },
  {
   "cell_type": "markdown",
   "id": "1869dc27-6ccc-4b7e-b4b8-c7e9063f9f10",
   "metadata": {},
   "source": [
    "Check the default values of the synapse model `tsodyks_synapse`:"
   ]
  },
  {
   "cell_type": "code",
   "execution_count": null,
   "id": "2f973154-20d2-4101-a53e-ee9b40fb56c2",
   "metadata": {},
   "outputs": [],
   "source": [
    "nest.GetDefaults('tsodyks_synapse')"
   ]
  },
  {
   "cell_type": "markdown",
   "id": "8ead6bfc-cf42-4108-9552-3eb4edaaa8c6",
   "metadata": {},
   "source": [
    "To reproduce results from the original studies, `tau_psc` should be equal to `tau_syn_ex` in the neuron model.\n",
    "\n",
    "Set the synapse specifications:"
   ]
  },
  {
   "cell_type": "code",
   "execution_count": null,
   "id": "56a636bf",
   "metadata": {},
   "outputs": [],
   "source": [
    "# static synapse\n",
    "syn_spec_static = {'synapse_model': 'static_synapse', 'weight': 1.}\n",
    "\n",
    "# facilitating Tsodyks synapse\n",
    "syn_spec_fac = {\n",
    "    'tau_psc': tau_syn,     # PSC time constant (ms)\n",
    "    'tau_rec': 130.,        # recovery time (ms)\n",
    "    'tau_fac': 530.,        # facilitation time (ms)\n",
    "    'U': 0.03,              # facilitation parameter, asymptotic value of release probability, increase in u with each spike [0,1]\n",
    "    'delay': 0.1,           # synaptic delay (ms)\n",
    "    'weight': 1540.,        # PSC weight (pA)\n",
    "    'u': 0.,                # actual release probability\n",
    "    'x': 1.,                # initial fraction of resources (= synaptic vesicles) in the recovered state (= readily releasable pool) [0,1]\n",
    "    'y': 0.                 # initial fraction of synaptic vesicles in the synaptic cleft [0,1]\n",
    "    }\n",
    "\n",
    "# depressing Tsodyks synapse\n",
    "syn_spec_dep = {\n",
    "    'tau_psc': tau_syn,     # PSC time constant (ms)\n",
    "    'tau_rec': 800.,        # recovery time (ms)\n",
    "    'tau_fac': 0.,          # facilitation time (ms)\n",
    "    'U': 0.5,               # facilitation parameter, asymptotic value of release probability, increase in u with each spike [0,1]\n",
    "    'delay': 0.1,           # synaptic delay (ms)\n",
    "    'weight': 250.,         # PSC weight (pA)\n",
    "    'u': 0.,                # actual release probability\n",
    "    'x': 1.,                # initial fraction of resources (= synaptic vesicles) in the recovered state (= readily releasable pool) [0,1]\n",
    "    'y': 0.                 # initial fraction of synaptic vesicles in the synaptic cleft [0,1]\n",
    "    }"
   ]
  },
  {
   "cell_type": "markdown",
   "id": "08b3721e-a0c5-450b-a28a-499426c8ac9c",
   "metadata": {},
   "source": [
    "Instead of providing input spikes with a given frequency, we use DC current input:"
   ]
  },
  {
   "cell_type": "code",
   "execution_count": null,
   "id": "7dd0dd88",
   "metadata": {},
   "outputs": [],
   "source": [
    "p = nrn_params.copy()\n",
    "f = 0.02                    # frequency (kHz)\n",
    "\n",
    "I0 = p['V_th'] * p['C_m'] / p['tau_m'] / (1 - np.exp(-(1 / f - p['t_ref']) / p['tau_m']))"
   ]
  },
  {
   "cell_type": "markdown",
   "id": "09ccc684-7dd3-4f97-af70-4b1596c82d88",
   "metadata": {},
   "source": [
    "Let's set up three network in NEST. First, we need to clear the NEST memory:"
   ]
  },
  {
   "cell_type": "code",
   "execution_count": null,
   "id": "d6ee82ea",
   "metadata": {},
   "outputs": [],
   "source": [
    "nest.ResetKernel()\n",
    "nest.resolution = resolution"
   ]
  },
  {
   "cell_type": "markdown",
   "id": "91589020-e3e4-47bc-bf64-52ab74d40978",
   "metadata": {},
   "source": [
    "Here, we create and configure neurons and devices.  \n",
    "The first neuron of each pair receives DC input and from the second neuron we will record the membrane voltages."
   ]
  },
  {
   "cell_type": "code",
   "execution_count": null,
   "id": "b8c609d4",
   "metadata": {},
   "outputs": [],
   "source": [
    "nrns = nest.Create('iaf_psc_exp', 6, nrn_params)\n",
    "\n",
    "dc_gen = nest.Create('dc_generator', 3, {'amplitude': I0, 'start': dc_start, 'stop': dc_stop})\n",
    "\n",
    "vm = nest.Create('voltmeter', 3, {'label': 'voltmeter', 'interval': 1.})"
   ]
  },
  {
   "cell_type": "markdown",
   "id": "d1007639-64c2-46b5-885d-5b686e30db82",
   "metadata": {},
   "source": [
    "Connect neurons and devices:"
   ]
  },
  {
   "cell_type": "code",
   "execution_count": null,
   "id": "a3a9bd06",
   "metadata": {},
   "outputs": [],
   "source": [
    "nest.CopyModel('tsodyks_synapse', 'syn_fac', syn_spec_fac)\n",
    "nest.CopyModel('tsodyks_synapse', 'syn_dep', syn_spec_dep)\n",
    "\n",
    "# static synapse\n",
    "nest.Connect(dc_gen[0], nrns[0])\n",
    "nest.Connect(vm[0], nrns[1])\n",
    "nest.Connect(nrns[0], nrns[1], syn_spec=syn_spec_static)\n",
    "\n",
    "# facilitating Tsodyks synapse\n",
    "nest.Connect(dc_gen[1], nrns[2])\n",
    "nest.Connect(vm[1], nrns[3])\n",
    "nest.Connect(nrns[2], nrns[3], syn_spec='syn_fac')\n",
    "\n",
    "# depressing Tsodyks synapse\n",
    "nest.Connect(dc_gen[2], nrns[4])\n",
    "nest.Connect(vm[2], nrns[5])\n",
    "nest.Connect(nrns[4], nrns[5], syn_spec='syn_dep')"
   ]
  },
  {
   "cell_type": "markdown",
   "id": "25c70a42-ea60-4a0c-930c-46f3be120da3",
   "metadata": {},
   "source": [
    "Simulate:"
   ]
  },
  {
   "cell_type": "code",
   "execution_count": null,
   "id": "66d026cd-ec17-4758-a440-087b7d2ed017",
   "metadata": {},
   "outputs": [],
   "source": [
    "nest.Simulate(sim_time)"
   ]
  },
  {
   "cell_type": "markdown",
   "id": "5296fe2b-6e04-4d35-858a-316aef3a950a",
   "metadata": {},
   "source": [
    "Read out the membrane potentials recorded from the second neuron of each pair:"
   ]
  },
  {
   "cell_type": "code",
   "execution_count": null,
   "id": "59d77dbb",
   "metadata": {},
   "outputs": [],
   "source": [
    "nrn_static_t = vm[0].events['times']\n",
    "nrn_static_v = vm[0].events['V_m']\n",
    "nrn_static_senders = vm[0].events['senders']\n",
    "\n",
    "nrn_fac_t = vm[1].events['times']\n",
    "nrn_fac_v = vm[1].events['V_m']\n",
    "nrn_fac_senders = vm[1].events['senders']\n",
    "\n",
    "nrn_dep_t = vm[2].events['times']\n",
    "nrn_dep_v = vm[2].events['V_m']\n",
    "nrn_dep_senders = vm[2].events['senders']"
   ]
  },
  {
   "cell_type": "markdown",
   "id": "5cb4b7c8-5a24-49a4-8557-0620ff5f4c3b",
   "metadata": {},
   "source": [
    "Plot time courses of membrane potentials."
   ]
  },
  {
   "cell_type": "code",
   "execution_count": null,
   "id": "34117e03",
   "metadata": {},
   "outputs": [],
   "source": [
    "fig, axs = plt.subplots(3, figsize=(8, 5))\n",
    "fig.subplots_adjust(hspace=0.5)\n",
    "\n",
    "axs[0].set_title('static synapse')\n",
    "axs[0].plot(nrn_static_t, nrn_static_v, c='r')\n",
    "\n",
    "axs[1].set_title('facilitating Tsodyks synapse')\n",
    "axs[1].plot(nrn_fac_t, nrn_fac_v, c='r')\n",
    "\n",
    "axs[2].set_title('depressing Tsodyks synapse')\n",
    "axs[2].plot(nrn_dep_t, nrn_dep_v, c='r')\n",
    "\n",
    "axs[0].set_xticklabels([])\n",
    "axs[1].set_xticklabels([])\n",
    "\n",
    "axs[2].set_xlabel('time (ms)')\n",
    "for ax in axs:\n",
    "    ax.set_ylabel('membrane\\npotential\\n(mV)')\n",
    "    ax.set_xlim(0, sim_time)"
   ]
  },
  {
   "cell_type": "markdown",
   "id": "178fb3b4-afd0-4301-8a80-38d6503b5658",
   "metadata": {},
   "source": [
    "Side remark: you can even more conveniently use the built-in plotting functions of NEST:"
   ]
  },
  {
   "cell_type": "code",
   "execution_count": null,
   "id": "fa6b65b4",
   "metadata": {},
   "outputs": [],
   "source": [
    "import nest.voltage_trace\n",
    "\n",
    "_ = nest.voltage_trace.from_device(vm[0])\n",
    "plt.show()\n",
    "\n",
    "_ = nest.voltage_trace.from_device(vm[1])\n",
    "plt.show()\n",
    "\n",
    "a = nest.voltage_trace.from_device(vm[2])\n",
    "plt.show()"
   ]
  }
 ],
 "metadata": {
  "kernelspec": {
   "display_name": "Python 3 (ipykernel)",
   "language": "python",
   "name": "python3"
  },
  "language_info": {
   "codemirror_mode": {
    "name": "ipython",
    "version": 3
   },
   "file_extension": ".py",
   "mimetype": "text/x-python",
   "name": "python",
   "nbconvert_exporter": "python",
   "pygments_lexer": "ipython3",
   "version": "3.12.2"
  }
 },
 "nbformat": 4,
 "nbformat_minor": 5
}
