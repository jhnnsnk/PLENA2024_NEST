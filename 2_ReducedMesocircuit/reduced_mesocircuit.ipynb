{
 "cells": [
  {
   "cell_type": "markdown",
   "metadata": {},
   "source": [
    "# Layer 6 of the mesocircuit model\n",
    "\n",
    "The mesocircuit model is a spatially organized spiking neuronal network model covering $4\\times 4$ mm $^2$ with realistic neuron and synapse density.  The model is based on the cortical microcircuit by Potjans \\& Diesmann (2014), in particular on an adapted version for macaque V1 as used in the multi-area model by Schmidt et al. (2018).\n",
    "\n",
    "Senk, J., Hagen, E., van Albada, S. J., & Diesmann, M. (2018).  \n",
    "*Reconciliation of weak pairwise spike-train correlations and highly coherent local field potentials across space.*  \n",
    "https://doi.org/10.48550/ARXIV.1805.10235 and https://github.com/INM-6/mesocircuit-model\n",
    "\n",
    "For demonstration purposes, we here only simulate one layer and downscale the number of neurons. We compensate for missing connections by adjusting the external input.\n",
    "\n",
    "Johanna Senk  \n",
    "EBRAINS Brain Simulation School 2023  \n",
    "Training on modelling neurons, circuits, and cognitive functions  \n",
    "\n",
    "Slightly modified for LASCON IX by Hans Ekkehard Plesser."
   ]
  },
  {
   "cell_type": "markdown",
   "metadata": {},
   "source": [
    "If you execute this notebook in the EBRAINS lab, choose the kernel $\\texttt{EBRAINS-23.09}$. When you run it for the first time, you need to install the $\\texttt{parameters}$ module by uncommenting the follownig line"
   ]
  },
  {
   "cell_type": "code",
   "execution_count": null,
   "metadata": {},
   "outputs": [],
   "source": [
    "#!pip install parameters"
   ]
  },
  {
   "cell_type": "code",
   "execution_count": null,
   "metadata": {},
   "outputs": [],
   "source": [
    "%matplotlib inline\n",
    "import os\n",
    "import numpy as np\n",
    "import matplotlib.pyplot as plt\n",
    "import pickle\n",
    "import nest\n",
    "nest.set_verbosity('M_ERROR')"
   ]
  },
  {
   "cell_type": "markdown",
   "metadata": {},
   "source": [
    "Load the parameters of the mesocircuit model."
   ]
  },
  {
   "cell_type": "code",
   "execution_count": null,
   "metadata": {},
   "outputs": [],
   "source": [
    "net_dict_filename = 'network_parameters.pkl'\n",
    "with open(net_dict_filename, 'rb') as f:\n",
    "    net_dict = pickle.load(f)"
   ]
  },
  {
   "cell_type": "markdown",
   "metadata": {},
   "source": [
    "We first inspect the number of neurons in each population: L2/3E, L2/3I, L4E, L4I, L5E, L5I, L6E, L6I, TC. Beside the cortical layers, TC refers to a population of thalamocortical neurons which is used in the original model for external stimulation.\n"
   ]
  },
  {
   "cell_type": "code",
   "execution_count": null,
   "metadata": {},
   "outputs": [],
   "source": [
    "net_dict['num_neurons']"
   ]
  },
  {
   "cell_type": "markdown",
   "metadata": {},
   "source": [
    "We specify a downscaling factor for the neuron numbers and compute the neuron numbers for our network that only contains populations L6E and L6I:"
   ]
  },
  {
   "cell_type": "code",
   "execution_count": null,
   "metadata": {},
   "outputs": [],
   "source": [
    "N_scaling = 0.045  # fits with a little margin on EBRAINS 2GB machines\n",
    "\n",
    "N_L6E = np.round(net_dict['num_neurons'][6] * N_scaling).astype(int)\n",
    "N_L6I = np.round(net_dict['num_neurons'][7] * N_scaling).astype(int)\n",
    "\n",
    "N_L6E, N_L6I"
   ]
  },
  {
   "cell_type": "markdown",
   "metadata": {},
   "source": [
    "The neurons will be placed randomly (uniform distribution) in a square area of side length $\\texttt{extent}$ (in mm):"
   ]
  },
  {
   "cell_type": "code",
   "execution_count": null,
   "metadata": {},
   "outputs": [],
   "source": [
    "extent = net_dict['extent']\n",
    "\n",
    "extent"
   ]
  },
  {
   "cell_type": "markdown",
   "metadata": {},
   "source": [
    "The neuron model used is a leaky integrate-and-fire model with exponential time course of the postsynaptic currents using the following parameters:"
   ]
  },
  {
   "cell_type": "code",
   "execution_count": null,
   "metadata": {},
   "outputs": [],
   "source": [
    "neuron_params = {\n",
    "    # membrane capacitance (in pF)\n",
    "    'C_m': 250.0,\n",
    "    # membrane time constant (in ms)\n",
    "    'tau_m': 10.0,    \n",
    "    # resistive leak reversal potential (in mV)\n",
    "    'E_L': -65.0,\n",
    "    # spike detection threshold (in mV)\n",
    "    'V_th': -50.0,\n",
    "    # spike reset potential (in mV)\n",
    "    'V_reset': -65.0,\n",
    "    # refractory period after spikes (in ms)\n",
    "    't_ref': 2.0,\n",
    "    # time constants of postsynaptic currents (in ms)\n",
    "    'tau_syn_ex': 2.0,\n",
    "    'tau_syn_in': 8.0}"
   ]
  },
  {
   "cell_type": "markdown",
   "metadata": {},
   "source": [
    "Next, we turn to the connectivity. The recurrent connections between all populations are here defined via a connection-specific in-degree, that is the number of source neurons from a source population that connect to one target neuron in the target population. The first index (rows) of the in-degree matrix corresponds to the target population and the second index (column) to the source population.  "
   ]
  },
  {
   "cell_type": "code",
   "execution_count": null,
   "metadata": {},
   "outputs": [],
   "source": [
    "net_dict['indegrees']"
   ]
  },
  {
   "cell_type": "markdown",
   "metadata": {},
   "source": [
    "We extract the in-degrees for our L6E-L6I subnetwork:"
   ]
  },
  {
   "cell_type": "code",
   "execution_count": null,
   "metadata": {},
   "outputs": [],
   "source": [
    "K_L6E_L6E = net_dict['indegrees'][6,6] # L6E -> L6E \n",
    "K_L6E_L6I = net_dict['indegrees'][7,6] # L6E -> L6I\n",
    "K_L6I_L6E = net_dict['indegrees'][6,7] # L6I -> L6E\n",
    "K_L6I_L6I = net_dict['indegrees'][7,7] # L6I -> L6I\n",
    "\n",
    "print(K_L6E_L6E, K_L6E_L6I, K_L6I_L6E, K_L6I_L6I)"
   ]
  },
  {
   "cell_type": "markdown",
   "metadata": {},
   "source": [
    "The connections will be drawn according to a spatial profile with exponential distance dependence. The decay constant $\\texttt{beta}$ (in mm) depends on the connected populations:"
   ]
  },
  {
   "cell_type": "code",
   "execution_count": null,
   "metadata": {},
   "outputs": [],
   "source": [
    "beta_L6E_L6E = net_dict['beta'][6, 6] # L6E -> L6E\n",
    "beta_L6E_L6I = net_dict['beta'][7, 6] # L6E -> L6I\n",
    "beta_L6I_L6E = net_dict['beta'][6, 7] # L6I -> L6E\n",
    "beta_L6I_L6I = net_dict['beta'][7, 7] # L6I -> L6I\n",
    "\n",
    "print(beta_L6E_L6E, beta_L6E_L6I, beta_L6I_L6E, beta_L6I_L6I)"
   ]
  },
  {
   "cell_type": "markdown",
   "metadata": {},
   "source": [
    "The maximum distance is defined via a mask radius that is proportional to beta. The mask scaling factor is chosen such that a deviation from the exponential profile is negligible:"
   ]
  },
  {
   "cell_type": "code",
   "execution_count": null,
   "metadata": {},
   "outputs": [],
   "source": [
    "mask_scaling = net_dict['mask_scaling']\n",
    "\n",
    "mask_scaling"
   ]
  },
  {
   "cell_type": "markdown",
   "metadata": {},
   "source": [
    "In addition to the recurrent connections, each neuron receives independent external Poisson spike input. The Poisson background rate (in spikes / s) is the same for all populations:"
   ]
  },
  {
   "cell_type": "code",
   "execution_count": null,
   "metadata": {},
   "outputs": [],
   "source": [
    "bg_rate = net_dict['bg_rate']\n",
    "\n",
    "bg_rate"
   ]
  },
  {
   "cell_type": "markdown",
   "metadata": {},
   "source": [
    "The external in-degree is different for each population. Note that it is only defined for the cortical populations:"
   ]
  },
  {
   "cell_type": "code",
   "execution_count": null,
   "metadata": {},
   "outputs": [],
   "source": [
    "net_dict['ext_indegrees']"
   ]
  },
  {
   "cell_type": "markdown",
   "metadata": {},
   "source": [
    "Since we only want to simulate two out of eight cortical populations, we adjust the external in-degrees of L6E and L6I such that they also include a contribution from the missing recurrent connections. Here, we aim to preserve just the mean input (not the variance of the input). For this purpose, the firing rates from all cortical populations are required which have been obtained from a simulation of the full network:"
   ]
  },
  {
   "cell_type": "code",
   "execution_count": null,
   "metadata": {},
   "outputs": [],
   "source": [
    "rates_meso = np.array([0.372, 1.413, 1.199, 2.823, 2.281, 3.763, 1.132, 3.515])"
   ]
  },
  {
   "cell_type": "markdown",
   "metadata": {},
   "source": [
    "We further need the weight matrix. In the original model, the weights (in pA) are normally distributed, but for the compensation we only consider the mean values:"
   ]
  },
  {
   "cell_type": "code",
   "execution_count": null,
   "metadata": {},
   "outputs": [],
   "source": [
    "net_dict['weight_matrix_mean']"
   ]
  },
  {
   "cell_type": "markdown",
   "metadata": {},
   "source": [
    "Note that the weight from L4E to L2/3E is twice as large as the other excitatory weights. The external weight is equal to the default excitatory weight:"
   ]
  },
  {
   "cell_type": "code",
   "execution_count": null,
   "metadata": {},
   "outputs": [],
   "source": [
    "net_dict['weight_ext']"
   ]
  },
  {
   "cell_type": "markdown",
   "metadata": {},
   "source": [
    "We next create an array with alternating excitatory and inhibitory synaptic time constants:"
   ]
  },
  {
   "cell_type": "code",
   "execution_count": null,
   "metadata": {},
   "outputs": [],
   "source": [
    "tau_syn = np.array([[neuron_params['tau_syn_ex'], neuron_params['tau_syn_in']] \n",
    "                    for i in np.arange(4)]).flatten()\n",
    "tau_syn"
   ]
  },
  {
   "cell_type": "markdown",
   "metadata": {},
   "source": [
    "Now we can calculate the in-degree modifications for populations L6E (population index 6) and L6I (population index 7). The calculations here are based on the Brunel-ish expressions for mean and standard deviation of the rates\n",
    "\n",
    "\\begin{align}\n",
    "    \\newcommand{\\tauM}{\\tau_\\text{m}}\n",
    "\\newcommand{\\nuX}{\\nu_\\text{ext}}\n",
    "  \\mu_0 &= C_E J \\tauM[\\nuX + \\nu_0(1-g\\gamma)] \\\\[2ex]\n",
    "  \\sigma^2_0 &= C_E J^2 \\tauM[\\nuX + \\nu_0(1-g^2\\gamma)] \n",
    "                \\end{align}\n",
    "\n",
    "We focus on the mean rate. For problems of scaling network size, see\n",
    "\n",
    "van Albada, S. J., Helias, M., & Diesmann, M. (2015).  \n",
    "*Scalability of asynchronous networks is limited by one-to-one mapping between effective connectivity and correlations*.   \n",
    "PLOS Computational Biology, 11(9), e1004490. https://doi.org/10.1371/journal.pcbi.1004490\n"
   ]
  },
  {
   "cell_type": "code",
   "execution_count": null,
   "metadata": {},
   "outputs": [],
   "source": [
    "included_popids = [6, 7] # L6E, L6I\n",
    "indegree_modifications = np.zeros(len(included_popids))\n",
    "excluded_popids = [0, 1, 2, 3, 4, 5] # L2/3E, L2/3I, L4E, L4I, L5E, L5I\n",
    "\n",
    "for i, ipopid in enumerate(included_popids):\n",
    "    weights_tau_syn_rec = net_dict['weight_matrix_mean'][ipopid][:-1] * tau_syn\n",
    "    weight_tau_syn_ext = net_dict['weight_ext'] * neuron_params['tau_syn_ex']\n",
    "    frac_weights_tau_syn = weights_tau_syn_rec / weight_tau_syn_ext\n",
    "\n",
    "    frac_rates = rates_meso / net_dict['bg_rate']\n",
    "\n",
    "    rec_input = frac_rates * frac_weights_tau_syn * net_dict['indegrees'][ipopid][:-1]\n",
    "\n",
    "    for jpopid in [excluded_popids]:\n",
    "        indegree_modifications[i] += np.sum(rec_input[jpopid])"
   ]
  },
  {
   "cell_type": "markdown",
   "metadata": {},
   "source": [
    "The new external in-degrees of L6E and L6I are:"
   ]
  },
  {
   "cell_type": "code",
   "execution_count": null,
   "metadata": {},
   "outputs": [],
   "source": [
    "K_ext_L6E = np.round(net_dict['ext_indegrees'][6] + indegree_modifications[0]).astype(int)\n",
    "K_ext_L6I = np.round(net_dict['ext_indegrees'][7] + indegree_modifications[1]).astype(int)\n",
    "\n",
    "print('old:', net_dict['ext_indegrees'][6], net_dict['ext_indegrees'][7])\n",
    "print('new:', K_ext_L6E, K_ext_L6I)"
   ]
  },
  {
   "cell_type": "markdown",
   "metadata": {},
   "source": [
    "Now that the connectivity is defined, we can turn to the parameterization of the connections. Since our sub-network has only one excitatory and one inhibitory weight, we define its mean and standard deviation:"
   ]
  },
  {
   "cell_type": "code",
   "execution_count": null,
   "metadata": {},
   "outputs": [],
   "source": [
    "w_mean_ex = net_dict['weight_matrix_mean'][6, 6]\n",
    "w_std_ex = w_mean_ex * net_dict['weight_rel_std']\n",
    "\n",
    "w_mean_in = net_dict['weight_matrix_mean'][7, 7]\n",
    "w_std_in = - w_mean_in * net_dict['weight_rel_std']\n",
    "\n",
    "print(w_mean_ex, w_std_ex)\n",
    "print(w_mean_in, w_std_in)"
   ]
  },
  {
   "cell_type": "markdown",
   "metadata": {},
   "source": [
    "Recurrent connections in the model use a linear distance dependency and we assume that the delay offset (in ms) and the propagation speed (in mm / ms) are the same for all connections:"
   ]
  },
  {
   "cell_type": "code",
   "execution_count": null,
   "metadata": {},
   "outputs": [],
   "source": [
    "delay_offset = net_dict['delay_offset_exc_inh'][0]\n",
    "prop_speed = net_dict['prop_speed_exc_inh'][0]\n",
    "\n",
    "delay_offset, prop_speed"
   ]
  },
  {
   "cell_type": "markdown",
   "metadata": {},
   "source": [
    "The fixed delay (in ms) of the external Poisson input is:"
   ]
  },
  {
   "cell_type": "code",
   "execution_count": null,
   "metadata": {},
   "outputs": [],
   "source": [
    "delay_poisson = 1.0"
   ]
  },
  {
   "cell_type": "markdown",
   "metadata": {},
   "source": [
    "Moreover, we specify whether a pertubation via the thalamocortical pathway shall be applied:"
   ]
  },
  {
   "cell_type": "code",
   "execution_count": null,
   "metadata": {},
   "outputs": [],
   "source": [
    "use_thalamic_pulse = False"
   ]
  },
  {
   "cell_type": "markdown",
   "metadata": {},
   "source": [
    "Here, we do not explicitly make use of the thalamocortical populations as in the original model. Instead, we just apply a spike pulse to all neurons within a disk of a given radius in the center of the L6E population. We define this radius (in mm), the delay (in ms), the weight (in pA), and the time point (in ms) when the thalamic pulse shall be applied:"
   ]
  },
  {
   "cell_type": "code",
   "execution_count": null,
   "metadata": {},
   "outputs": [],
   "source": [
    "th_radius = 0.5\n",
    "th_delay_pulse_generator = 1.0\n",
    "th_weight = 50 * w_mean_ex\n",
    "th_pulse_time = 500."
   ]
  },
  {
   "cell_type": "markdown",
   "metadata": {},
   "source": [
    "Having specified all network parameters, we start to set up the actual simulation with NEST. First, the simulation kernel needs to be reset:\n"
   ]
  },
  {
   "cell_type": "code",
   "execution_count": null,
   "metadata": {},
   "outputs": [],
   "source": [
    "nest.ResetKernel()"
   ]
  },
  {
   "cell_type": "markdown",
   "metadata": {},
   "source": [
    "We set the seed for random number generation to get reproducible simulation results:"
   ]
  },
  {
   "cell_type": "code",
   "execution_count": null,
   "metadata": {},
   "outputs": [],
   "source": [
    "nest.rng_seed = 1234"
   ]
  },
  {
   "cell_type": "markdown",
   "metadata": {},
   "source": [
    "We also specify the resolution of the simulation (that is a time step in ms): "
   ]
  },
  {
   "cell_type": "code",
   "execution_count": null,
   "metadata": {},
   "outputs": [],
   "source": [
    "nest.resolution = 0.1"
   ]
  },
  {
   "cell_type": "markdown",
   "metadata": {},
   "source": [
    "And we set the number of OpenMP threads to use. A good choice for the number of threads is the number of available compute cores:"
   ]
  },
  {
   "cell_type": "code",
   "execution_count": null,
   "metadata": {},
   "outputs": [],
   "source": [
    "nest.local_num_threads = os.cpu_count()\n",
    "nest.local_num_threads"
   ]
  },
  {
   "cell_type": "markdown",
   "metadata": {},
   "source": [
    "The positions of the neurons are defined in 2D space with periodic boundary conditions:"
   ]
  },
  {
   "cell_type": "code",
   "execution_count": null,
   "metadata": {},
   "outputs": [],
   "source": [
    "positions = nest.spatial.free(\n",
    "    pos=nest.random.uniform(min=-extent / 2.,\n",
    "                            max=extent / 2.),\n",
    "    edge_wrap=True,\n",
    "    extent=[extent, extent])"
   ]
  },
  {
   "cell_type": "markdown",
   "metadata": {},
   "source": [
    "We create the excitatory and inhibitory neuron populations:"
   ]
  },
  {
   "cell_type": "code",
   "execution_count": null,
   "metadata": {},
   "outputs": [],
   "source": [
    "pop_L6E = nest.Create('iaf_psc_exp', N_L6E, params=neuron_params, positions=positions)\n",
    "pop_L6I = nest.Create('iaf_psc_exp', N_L6I, params=neuron_params, positions=positions)\n",
    "\n",
    "pop_L6E, pop_L6I"
   ]
  },
  {
   "cell_type": "markdown",
   "metadata": {},
   "source": [
    "Next, we define the synapse dictionaries containing the parameters of the excitatory and inhibitory connections:"
   ]
  },
  {
   "cell_type": "code",
   "execution_count": null,
   "metadata": {},
   "outputs": [],
   "source": [
    "syn_dict_ex = {\n",
    "    'synapse_model': 'static_synapse',\n",
    "    'weight': nest.math.redraw(\n",
    "        nest.random.normal(\n",
    "            mean=w_mean_ex,\n",
    "            std=w_std_ex),\n",
    "        min=0,\n",
    "        max=np.Inf),\n",
    "    'delay': nest.math.redraw(\n",
    "        delay_offset + nest.spatial.distance / prop_speed, \n",
    "        min=nest.resolution - 0.5 * nest.resolution,\n",
    "        max=np.Inf)\n",
    "}\n",
    "\n",
    "syn_dict_in = {\n",
    "    'synapse_model': 'static_synapse',\n",
    "    'weight': nest.math.redraw(\n",
    "        nest.random.normal(\n",
    "            mean=w_mean_in,\n",
    "            std=w_std_in),\n",
    "        min=-np.Inf,\n",
    "        max=0),\n",
    "    'delay': nest.math.redraw(\n",
    "        delay_offset + nest.spatial.distance / prop_speed,\n",
    "        min=nest.resolution - 0.5 * nest.resolution,\n",
    "        max=np.Inf)\n",
    "}"
   ]
  },
  {
   "cell_type": "markdown",
   "metadata": {},
   "source": [
    "For the excitatory connections (from L6E), we define the connection dictionaries and then instantiate the connections:"
   ]
  },
  {
   "cell_type": "code",
   "execution_count": null,
   "metadata": {},
   "outputs": [],
   "source": [
    "# L6E -> L6E\n",
    "conn_dict = {'rule': 'fixed_indegree',\n",
    "             'indegree': K_L6E_L6E,\n",
    "             'p': nest.spatial_distributions.exponential(\n",
    "                x=nest.spatial.distance,\n",
    "                beta=beta_L6E_L6E),\n",
    "              'mask': {'circular': {\n",
    "                'radius': beta_L6E_L6E * mask_scaling}}}\n",
    "nest.Connect(pop_L6E, pop_L6E, conn_dict, syn_dict_ex)\n",
    "\n",
    "# L6E -> L6I\n",
    "conn_dict = {'rule': 'fixed_indegree',\n",
    "             'indegree': K_L6E_L6I,\n",
    "             'p': nest.spatial_distributions.exponential(\n",
    "                x=nest.spatial.distance,\n",
    "                beta=beta_L6E_L6I),\n",
    "              'mask': {'circular': {\n",
    "                'radius': beta_L6E_L6I * mask_scaling}}}\n",
    "nest.Connect(pop_L6E, pop_L6I, conn_dict, syn_dict_ex)"
   ]
  },
  {
   "cell_type": "markdown",
   "metadata": {},
   "source": [
    "Then we do the same for the inhibitory connections (from L6I):"
   ]
  },
  {
   "cell_type": "code",
   "execution_count": null,
   "metadata": {},
   "outputs": [],
   "source": [
    "# L6I -> L6E\n",
    "conn_dict = {'rule': 'fixed_indegree',\n",
    "             'indegree': K_L6I_L6E,\n",
    "             'p': nest.spatial_distributions.exponential(\n",
    "                x=nest.spatial.distance,\n",
    "                beta=beta_L6I_L6E),\n",
    "              'mask': {'circular': {\n",
    "                'radius': beta_L6I_L6E * mask_scaling}}}\n",
    "nest.Connect(pop_L6I, pop_L6E, conn_dict, syn_dict_in)\n",
    "\n",
    "# L6I -> L6I\n",
    "conn_dict = {'rule': 'fixed_indegree',\n",
    "             'indegree': K_L6I_L6I,\n",
    "             'p': nest.spatial_distributions.exponential(\n",
    "                x=nest.spatial.distance,\n",
    "                beta=beta_L6I_L6I),\n",
    "              'mask': {'circular': {\n",
    "                'radius': beta_L6I_L6I * mask_scaling}}}\n",
    "nest.Connect(pop_L6I, pop_L6I, conn_dict, syn_dict_in)\n",
    "     "
   ]
  },
  {
   "cell_type": "markdown",
   "metadata": {},
   "source": [
    "The external Poisson generators are created and connected:"
   ]
  },
  {
   "cell_type": "code",
   "execution_count": null,
   "metadata": {},
   "outputs": [],
   "source": [
    "poisson_generator_L6E = nest.Create('poisson_generator',\n",
    "                                    params={'rate': bg_rate * K_ext_L6E})\n",
    "nest.Connect(poisson_generator_L6E, pop_L6E,\n",
    "             'all_to_all',\n",
    "             {'weight': w_mean_ex, 'delay': delay_poisson})\n",
    "\n",
    "poisson_generator_L6I = nest.Create('poisson_generator',\n",
    "                                    params={'rate': bg_rate * K_ext_L6I})\n",
    "nest.Connect(poisson_generator_L6I, pop_L6I,\n",
    "             'all_to_all',\n",
    "             {'weight': w_mean_ex, 'delay': delay_poisson})"
   ]
  },
  {
   "cell_type": "markdown",
   "metadata": {},
   "source": [
    "Each population gets a spike recorder:"
   ]
  },
  {
   "cell_type": "code",
   "execution_count": null,
   "metadata": {},
   "outputs": [],
   "source": [
    "sr_L6E = nest.Create('spike_recorder')\n",
    "nest.Connect(pop_L6E, sr_L6E)\n",
    "\n",
    "sr_L6I = nest.Create('spike_recorder')\n",
    "nest.Connect(pop_L6I, sr_L6I)"
   ]
  },
  {
   "cell_type": "markdown",
   "metadata": {},
   "source": [
    "If a thalamic pulse stimulus shall be applied, we here create a spike generator and connect it to all neurons in L6E inside a center disc of defined radius: "
   ]
  },
  {
   "cell_type": "code",
   "execution_count": null,
   "metadata": {},
   "outputs": [],
   "source": [
    "if use_thalamic_pulse:\n",
    "    spike_pulse_input_th = nest.Create('spike_generator',\n",
    "                                       params={'spike_times': [th_pulse_time]},\n",
    "                                       positions=nest.spatial.grid(\n",
    "                                            shape=[1, 1],\n",
    "                                            edge_wrap=True))\n",
    "    \n",
    "    conn_dict_pulse_th = {\n",
    "                'rule': 'pairwise_bernoulli',\n",
    "                'p': 1., \n",
    "                'mask': {'circular': {'radius': th_radius}}}\n",
    "    \n",
    "    syn_dict_pulse_th = {\n",
    "                'weight': th_weight,\n",
    "                'delay': th_delay_pulse_generator}\n",
    "\n",
    "    nest.Connect(spike_pulse_input_th, pop_L6E,\n",
    "                 conn_dict_pulse_th,\n",
    "                 syn_dict_pulse_th)"
   ]
  },
  {
   "cell_type": "markdown",
   "metadata": {},
   "source": [
    "We finally define the simulation duration (in ms) and run the network simulation:"
   ]
  },
  {
   "cell_type": "code",
   "execution_count": null,
   "metadata": {},
   "outputs": [],
   "source": [
    "t_sim = 1000.0\n",
    "nest.Simulate(t_sim)"
   ]
  },
  {
   "cell_type": "markdown",
   "metadata": {},
   "source": [
    "To inspect the spike data after the simulation has finished, we read out the recorded spikes from both spike recorders:"
   ]
  },
  {
   "cell_type": "code",
   "execution_count": null,
   "metadata": {},
   "outputs": [],
   "source": [
    "spike_senders_L6E = nest.GetStatus(sr_L6E)[0]['events']['senders']\n",
    "spike_times_L6E = nest.GetStatus(sr_L6E)[0]['events']['times']\n",
    "spike_senders_L6I = nest.GetStatus(sr_L6I)[0]['events']['senders']\n",
    "spike_times_L6I = nest.GetStatus(sr_L6I)[0]['events']['times']\n",
    "\n",
    "spike_senders_L6E[:20], spike_times_L6E[:20]"
   ]
  },
  {
   "cell_type": "markdown",
   "metadata": {},
   "source": [
    "For getting a first impression of the spike output, we stack the data from both populations:"
   ]
  },
  {
   "cell_type": "code",
   "execution_count": null,
   "metadata": {},
   "outputs": [],
   "source": [
    "spike_senders = np.hstack((spike_senders_L6E, spike_senders_L6I))\n",
    "spike_times = np.hstack((spike_times_L6E, spike_times_L6I))"
   ]
  },
  {
   "cell_type": "markdown",
   "metadata": {},
   "source": [
    "The raster plot shows the spikes of L6E at the bottom and of L6I on top:"
   ]
  },
  {
   "cell_type": "code",
   "execution_count": null,
   "metadata": {},
   "outputs": [],
   "source": [
    "plt.plot(spike_times, spike_senders, 'k.', markersize=1)\n",
    "plt.xlim(0, t_sim)\n",
    "plt.ylim(1, N_L6E + N_L6I)\n",
    "plt.xlabel('time (ms)')\n",
    "plt.ylabel('neuron id');"
   ]
  },
  {
   "cell_type": "markdown",
   "metadata": {},
   "source": [
    "We can also provide an estimate for the average per-neuron firing rates. To avoid a startup transient in the calculation, we discard the data in the beginning of the simulation:"
   ]
  },
  {
   "cell_type": "code",
   "execution_count": null,
   "metadata": {},
   "outputs": [],
   "source": [
    "t_transient = 100.0\n",
    "\n",
    "spike_count_L6E = sum(t > t_transient for t in spike_times_L6E)\n",
    "rate_L6E = spike_count_L6E / (t_sim - t_transient) * 1e3 / N_L6E\n",
    "print(f'Firing rate L6E = {rate_L6E:.2f} spikes/s')\n",
    "\n",
    "spike_count_L6I = sum(t > t_transient for t in spike_times_L6I)\n",
    "rate_L6I = spike_count_L6I / (t_sim - t_transient) * 1e3 / N_L6I\n",
    "print(f'Firing rate L6I = {rate_L6I:.2f} spikes/s')"
   ]
  },
  {
   "cell_type": "markdown",
   "metadata": {},
   "source": [
    "Next, we retrieve the x-positions (in mm) of poth populations:"
   ]
  },
  {
   "cell_type": "code",
   "execution_count": null,
   "metadata": {},
   "outputs": [],
   "source": [
    "x_positions_L6E = np.array(pop_L6E.spatial['positions'])[:,0]\n",
    "x_positions_L6I = np.array(pop_L6I.spatial['positions'])[:,0]\n",
    "\n",
    "x_positions_L6E"
   ]
  },
  {
   "cell_type": "markdown",
   "metadata": {},
   "source": [
    "We use the x-positions to sort the senders:"
   ]
  },
  {
   "cell_type": "code",
   "execution_count": null,
   "metadata": {},
   "outputs": [],
   "source": [
    "spike_senders_pos_L6E = np.array([x_positions_L6E[nid-1] for nid in spike_senders_L6E])\n",
    "spike_senders_pos_L6I = np.array([x_positions_L6I[nid-1-N_L6E] for nid in spike_senders_L6I])"
   ]
  },
  {
   "cell_type": "markdown",
   "metadata": {},
   "source": [
    "We can finally create raster plots in which the vertical axis corresponds to the x-position instead of the neuron id:"
   ]
  },
  {
   "cell_type": "code",
   "execution_count": null,
   "metadata": {},
   "outputs": [],
   "source": [
    "plt.figure(figsize=(10, 4))\n",
    "ax = plt.subplot(1, 2, 1)\n",
    "ax.set_title('L6E')\n",
    "ax.plot(spike_times_L6E, spike_senders_pos_L6E, 'k.', markersize=1)\n",
    "ax.set_xlim(0, t_sim)\n",
    "ax.set_ylim(-extent/2, extent/2)\n",
    "ax.set_ylabel('x-position (mm)')\n",
    "\n",
    "ax = plt.subplot(1, 2, 2)\n",
    "ax.set_title('L6I')\n",
    "ax.plot(spike_times_L6I, spike_senders_pos_L6I, 'k.', markersize=1)\n",
    "ax.set_xlim(0, t_sim)\n",
    "ax.set_ylim(-extent/2, extent/2)\n",
    "ax.set_xlabel('time (ms)')\n",
    "ax.set_ylabel('x-position (mm)');"
   ]
  },
  {
   "cell_type": "markdown",
   "metadata": {},
   "source": [
    "### Plot again with focusing at time around thalamic pulse injection"
   ]
  },
  {
   "cell_type": "code",
   "execution_count": null,
   "metadata": {},
   "outputs": [],
   "source": [
    "plt.figure(figsize=(10, 4))\n",
    "ax = plt.subplot(1, 2, 1)\n",
    "ax.set_title('L6E')\n",
    "ax.plot(spike_times_L6E, spike_senders_pos_L6E, 'k.', markersize=1)\n",
    "ax.set_xlim(th_pulse_time-10, th_pulse_time+25)\n",
    "ax.set_ylim(-extent/2, extent/2)\n",
    "ax.set_ylabel('x-position (mm)')\n",
    "\n",
    "ax = plt.subplot(1, 2, 2)\n",
    "ax.set_title('L6I')\n",
    "ax.plot(spike_times_L6I, spike_senders_pos_L6I, 'k.', markersize=1)\n",
    "ax.set_xlim(th_pulse_time-10, th_pulse_time+25)\n",
    "ax.set_ylim(-extent/2, extent/2)\n",
    "ax.set_xlabel('time (ms)')\n",
    "ax.set_ylabel('x-position (mm)');"
   ]
  },
  {
   "cell_type": "code",
   "execution_count": null,
   "metadata": {},
   "outputs": [],
   "source": []
  }
 ],
 "metadata": {
  "kernelspec": {
   "display_name": "EBRAINS-23.09",
   "language": "python",
   "name": "ebrains-23.09"
  },
  "language_info": {
   "codemirror_mode": {
    "name": "ipython",
    "version": 3
   },
   "file_extension": ".py",
   "mimetype": "text/x-python",
   "name": "python",
   "nbconvert_exporter": "python",
   "pygments_lexer": "ipython3",
   "version": "3.8.11"
  }
 },
 "nbformat": 4,
 "nbformat_minor": 4
}
