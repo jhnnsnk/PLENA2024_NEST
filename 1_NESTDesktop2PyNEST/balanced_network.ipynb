{
 "cells": [
  {
   "cell_type": "code",
   "execution_count": null,
   "id": "2437373e-eafb-4321-9f83-d7db5c08cb7a",
   "metadata": {},
   "outputs": [],
   "source": [
    "import nest"
   ]
  },
  {
   "cell_type": "code",
   "execution_count": null,
   "id": "9260eab7-e683-4068-9c9b-da6427a19732",
   "metadata": {},
   "outputs": [],
   "source": [
    "nest.ResetKernel()"
   ]
  },
  {
   "cell_type": "code",
   "execution_count": null,
   "id": "341f1201-ce99-44d0-b41c-187f2bda6669",
   "metadata": {},
   "outputs": [],
   "source": [
    "# Set simulation kernel\n",
    "nest.SetKernelStatus({\n",
    "  \"local_num_threads\": 1,\n",
    "  \"resolution\": 0.1,\n",
    "  \"rng_seed\": 1\n",
    "})"
   ]
  },
  {
   "cell_type": "code",
   "execution_count": null,
   "id": "004f8fec-f242-433b-af2b-106a1ad947d6",
   "metadata": {},
   "outputs": [],
   "source": [
    "# Create nodes\n",
    "n1 = nest.Create(\"iaf_psc_alpha\", 800, params={\n",
    "  \"V_th\": -50,\n",
    "  \"tau_m\": 20,\n",
    "})\n",
    "n2 = nest.Create(\"iaf_psc_alpha\", 200, params={\n",
    "  \"V_th\": -50,\n",
    "  \"tau_m\": 20,\n",
    "})\n",
    "pg1 = nest.Create(\"poisson_generator\", 1, params={\n",
    "  \"rate\": 18000,\n",
    "})\n",
    "sr1 = nest.Create(\"spike_recorder\", 1)\n",
    "sr2 = nest.Create(\"spike_recorder\", 1)"
   ]
  },
  {
   "cell_type": "code",
   "execution_count": null,
   "id": "fa9e4a07-7852-48e9-a619-b63ab76d6e8d",
   "metadata": {},
   "outputs": [],
   "source": [
    "# Connect nodes\n",
    "nest.Connect(n1, n1, conn_spec={\n",
    "  \"rule\": \"fixed_indegree\",\n",
    "  \"indegree\": 200,\n",
    "}, syn_spec={ \n",
    "  \"weight\": 2.5,\n",
    "  \"delay\": 1.5,\n",
    "})\n",
    "nest.Connect(n1, n2, conn_spec={\n",
    "  \"rule\": \"fixed_indegree\",\n",
    "  \"indegree\": 200,\n",
    "}, syn_spec={ \n",
    "  \"weight\": 2.5,\n",
    "  \"delay\": 1.5,\n",
    "})\n",
    "nest.Connect(n2, n1, conn_spec={\n",
    "  \"rule\": \"fixed_indegree\",\n",
    "  \"indegree\": 50,\n",
    "}, syn_spec={ \n",
    "  \"weight\": -15,\n",
    "  \"delay\": 1.5,\n",
    "})\n",
    "nest.Connect(n2, n2, conn_spec={\n",
    "  \"rule\": \"fixed_indegree\",\n",
    "  \"indegree\": 50,\n",
    "}, syn_spec={ \n",
    "  \"weight\": -15,\n",
    "  \"delay\": 1.5,\n",
    "})\n",
    "nest.Connect(pg1, n1, syn_spec={ \n",
    "  \"weight\": 2.5,\n",
    "  \"delay\": 1.5,\n",
    "})\n",
    "nest.Connect(pg1, n2, syn_spec={ \n",
    "  \"weight\": 2.5,\n",
    "  \"delay\": 1.5,\n",
    "})\n",
    "nest.Connect(n1, sr1, syn_spec={ \n",
    "  \"weight\": 1,\n",
    "  \"delay\": 1.5,\n",
    "})\n",
    "nest.Connect(n2, sr2, syn_spec={ \n",
    "  \"weight\": 1,\n",
    "  \"delay\": 1.5,\n",
    "})\n"
   ]
  },
  {
   "cell_type": "code",
   "execution_count": null,
   "id": "1318c5ad-c22b-4c70-b8ab-2d18f83a24c8",
   "metadata": {},
   "outputs": [],
   "source": [
    "# Run simulation\n",
    "nest.Simulate(1000)"
   ]
  },
  {
   "cell_type": "code",
   "execution_count": null,
   "id": "c53098fc-7cca-4ea1-93f4-57fbfa571406",
   "metadata": {},
   "outputs": [],
   "source": [
    "%matplotlib inline\n",
    "import matplotlib.pyplot as plt"
   ]
  },
  {
   "cell_type": "code",
   "execution_count": null,
   "id": "2f4935c7-ceee-4992-a209-6d5ce93e773d",
   "metadata": {},
   "outputs": [],
   "source": [
    "plt.figure()\n",
    "ax = plt.subplot()\n",
    "ax.plot(sr1.events['times'], sr1.events['senders'],\n",
    "        '.', markersize=1, color='#595289', label='sr1')\n",
    "ax.plot(sr2.events['times'], sr2.events['senders'],\n",
    "        '.', markersize=1, color='#AF143C', label='sr2')\n",
    "ax.set_xlabel('time (ms)')\n",
    "ax.set_ylabel('neuron id')\n",
    "ax.legend()"
   ]
  }
 ],
 "metadata": {
  "kernelspec": {
   "display_name": "EBRAINS-23.09",
   "language": "python",
   "name": "ebrains-23.09"
  },
  "language_info": {
   "codemirror_mode": {
    "name": "ipython",
    "version": 3
   },
   "file_extension": ".py",
   "mimetype": "text/x-python",
   "name": "python",
   "nbconvert_exporter": "python",
   "pygments_lexer": "ipython3",
   "version": "3.8.11"
  }
 },
 "nbformat": 4,
 "nbformat_minor": 5
}
